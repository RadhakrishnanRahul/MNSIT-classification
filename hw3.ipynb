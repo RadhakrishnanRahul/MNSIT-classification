{
 "cells": [
  {
   "cell_type": "code",
   "execution_count": 191,
   "metadata": {},
   "outputs": [],
   "source": [
    "#importing the necessary modules\n",
    "import tensorflow as tf\n",
    "from tensorflow import keras\n",
    "from tensorflow.keras.datasets import mnist\n",
    "import numpy as np\n",
    "import matplotlib.pyplot as plt\n",
    "from sklearn.metrics import confusion_matrix\n",
    "from tensorflow.keras import initializers"
   ]
  },
  {
   "cell_type": "code",
   "execution_count": 192,
   "metadata": {},
   "outputs": [],
   "source": [
    "#loading data\n",
    "(xtrain,ytrain),(xtest,ytest)=mnist.load_data()"
   ]
  },
  {
   "cell_type": "code",
   "execution_count": 193,
   "metadata": {},
   "outputs": [
    {
     "name": "stdout",
     "output_type": "stream",
     "text": [
      "Training data:\n"
     ]
    },
    {
     "data": {
      "image/png": "[encoded data removed]",
      "text/plain": [
       "<Figure size 432x288 with 1 Axes>"
      ]
     },
     "metadata": {
      "needs_background": "light"
     },
     "output_type": "display_data"
    },
    {
     "name": "stdout",
     "output_type": "stream",
     "text": [
      "Label of this image is 2\n"
     ]
    }
   ],
   "source": [
    "import matplotlib.pyplot as plt\n",
    "print(\"Training data:\")\n",
    "plt.imshow(xtrain[5])\n",
    "plt.show()\n",
    "print(\"Label of this image is\",ytrain[5])"
   ]
  },
  {
   "cell_type": "code",
   "execution_count": 194,
   "metadata": {},
   "outputs": [
    {
     "data": {
      "text/plain": [
       "((50000, 28, 28, 1), (10000, 28, 28, 1), (50000,), (10000,))"
      ]
     },
     "execution_count": 194,
     "metadata": {},
     "output_type": "execute_result"
    }
   ],
   "source": [
    "#reshaping data as needed by the model\n",
    "xtrain=np.reshape(xtrain,(-1,28,28,1))\n",
    "xtest=np.reshape(xtest,(-1,28,28,1))\n",
    "xtrain1=xtrain[0:50000,:,:,:]\n",
    "xval=xtrain[50000:,:,:,:]\n",
    "ytrain1=ytrain[0:50000]\n",
    "yval=ytrain[50000:]\n",
    "xtrain1.shape,xtest.shape,ytrain1.shape,ytest.shape"
   ]
  },
  {
   "cell_type": "code",
   "execution_count": 195,
   "metadata": {},
   "outputs": [],
   "source": [
    "#normalising\n",
    "xtrain1=xtrain1/255\n",
    "xval=xval/255\n",
    "xtest=xtest/255"
   ]
  },
  {
   "cell_type": "code",
   "execution_count": 196,
   "metadata": {},
   "outputs": [],
   "source": [
    "#implementing one hot encoding\n",
    "from tensorflow.keras.utils import to_categorical\n",
    "y_train = to_categorical(ytrain1, num_classes=10)\n",
    "y_val=to_categorical(yval, num_classes=10)\n",
    "y_test = to_categorical(ytest, num_classes=10)"
   ]
  },
  {
   "cell_type": "code",
   "execution_count": 210,
   "metadata": {},
   "outputs": [],
   "source": [
    "#importing the model\n",
    "from tensorflow.keras.models import Sequential"
   ]
  },
  {
   "cell_type": "code",
   "execution_count": 211,
   "metadata": {},
   "outputs": [],
   "source": [
    "#creating model object\n",
    "model=Sequential()"
   ]
  },
  {
   "cell_type": "code",
   "execution_count": 212,
   "metadata": {},
   "outputs": [],
   "source": [
    "#importing layers\n",
    "from tensorflow.keras.layers import Conv2D,MaxPooling2D,Flatten,Dense,Dropout"
   ]
  },
  {
   "cell_type": "code",
   "execution_count": 213,
   "metadata": {},
   "outputs": [],
   "source": [
    "#adding layers and forming the model\n",
    "model.add(Conv2D(32,kernel_size=5,strides=1,padding=\"Same\",activation=\"relu\",input_shape=(28,28,1)))\n",
    "model.add(MaxPooling2D(padding=\"same\"))\n",
    "\n",
    "model.add(Conv2D(64,kernel_size=5,strides=1,padding=\"same\",activation=\"relu\"))\n",
    "model.add(MaxPooling2D(padding=\"same\"))\n",
    "\n",
    "model.add(Flatten())\n",
    "\n",
    "model.add(Dense(1024,activation=\"relu\",kernel_initializer=initializers.RandomNormal(stddev=0.01),bias_initializer=initializers.Zeros()))\n",
    "model.add(Dropout(0.2))\n",
    "model.add(Dense(10,activation=\"sigmoid\",kernel_initializer=initializers.RandomNormal(stddev=0.01),bias_initializer=initializers.Zeros()))"
   ]
  },
  {
   "cell_type": "code",
   "execution_count": 214,
   "metadata": {},
   "outputs": [
    {
     "name": "stdout",
     "output_type": "stream",
     "text": [
      "Model: \"sequential_9\"\n",
      "_________________________________________________________________\n",
      "Layer (type)                 Output Shape              Param #   \n",
      "=================================================================\n",
      "conv2d_18 (Conv2D)           (None, 28, 28, 32)        1600      \n",
      "_________________________________________________________________\n",
      "max_pooling2d_16 (MaxPooling (None, 14, 14, 32)        0         \n",
      "_________________________________________________________________\n",
      "conv2d_19 (Conv2D)           (None, 14, 14, 64)        18496     \n",
      "_________________________________________________________________\n",
      "max_pooling2d_17 (MaxPooling (None, 7, 7, 64)          0         \n",
      "_________________________________________________________________\n",
      "flatten_9 (Flatten)          (None, 3136)              0         \n",
      "_________________________________________________________________\n",
      "dense_18 (Dense)             (None, 1024)              3212288   \n",
      "_________________________________________________________________\n",
      "dropout_9 (Dropout)          (None, 1024)              0         \n",
      "_________________________________________________________________\n",
      "dense_19 (Dense)             (None, 10)                10250     \n",
      "=================================================================\n",
      "Total params: 3,242,634\n",
      "Trainable params: 3,242,634\n",
      "Non-trainable params: 0\n",
      "_________________________________________________________________\n"
     ]
    }
   ],
   "source": [
    "model.summary()"
   ]
  },
  {
   "cell_type": "code",
   "execution_count": 202,
   "metadata": {},
   "outputs": [],
   "source": [
    "#opt = keras.optimizers.Adam(learning_rate=0.001)"
   ]
  },
  {
   "cell_type": "code",
   "execution_count": 215,
   "metadata": {},
   "outputs": [],
   "source": [
    "#compiling\n",
    "model.compile(optimizer=\"adam\",loss=\"categorical_crossentropy\",metrics=[\"accuracy\"])"
   ]
  },
  {
   "cell_type": "code",
   "execution_count": 216,
   "metadata": {},
   "outputs": [
    {
     "name": "stdout",
     "output_type": "stream",
     "text": [
      "Train on 50000 samples, validate on 10000 samples\n",
      "Epoch 1/5\n",
      "50000/50000 [==============================] - 116s 2ms/sample - loss: 0.2633 - accuracy: 0.9211 - val_loss: 0.0796 - val_accuracy: 0.9766\n",
      "Epoch 2/5\n",
      "50000/50000 [==============================] - 140s 3ms/sample - loss: 0.0685 - accuracy: 0.9790 - val_loss: 0.0528 - val_accuracy: 0.9834\n",
      "Epoch 3/5\n",
      "50000/50000 [==============================] - 130s 3ms/sample - loss: 0.0430 - accuracy: 0.9868 - val_loss: 0.0401 - val_accuracy: 0.9876\n",
      "Epoch 4/5\n",
      "50000/50000 [==============================] - 124s 2ms/sample - loss: 0.0350 - accuracy: 0.9885 - val_loss: 0.0399 - val_accuracy: 0.9886\n",
      "Epoch 5/5\n",
      "50000/50000 [==============================] - 119s 2ms/sample - loss: 0.0264 - accuracy: 0.9916 - val_loss: 0.0384 - val_accuracy: 0.9892\n"
     ]
    }
   ],
   "source": [
    "#training the model\n",
    "checkpoint_filepath = './tmp/checkpoint/weights'\n",
    "model_checkpoint_callback = tf.keras.callbacks.ModelCheckpoint(\n",
    "    filepath=checkpoint_filepath,\n",
    "    save_weights_only=True,\n",
    "    save_best_only=True,\n",
    "    monitor='val_loss',\n",
    "    mode='min')\n",
    "history=model.fit(xtrain1,y_train,batch_size=150,epochs=5,validation_data=(xval,y_val),callbacks=[model_checkpoint_callback])"
   ]
  },
  {
   "cell_type": "code",
   "execution_count": 217,
   "metadata": {},
   "outputs": [],
   "source": [
    "prediction=model.predict(xtest)\n",
    "\n",
    "matrix = confusion_matrix(y_test.argmax(axis=1), prediction.argmax(axis=1))"
   ]
  },
  {
   "cell_type": "code",
   "execution_count": 218,
   "metadata": {},
   "outputs": [
    {
     "data": {
      "text/plain": [
       "array([[ 971,    0,    0,    1,    0,    0,    3,    0,    3,    2],\n",
       "       [   0, 1127,    1,    3,    0,    1,    1,    1,    1,    0],\n",
       "       [   0,    0, 1029,    0,    0,    0,    0,    1,    2,    0],\n",
       "       [   0,    0,    0, 1007,    0,    3,    0,    0,    0,    0],\n",
       "       [   0,    1,    1,    0,  970,    0,    0,    0,    0,   10],\n",
       "       [   0,    0,    0,    7,    0,  883,    1,    0,    1,    0],\n",
       "       [   1,    2,    0,    0,    1,    6,  945,    0,    3,    0],\n",
       "       [   0,    1,    7,    2,    0,    1,    0, 1007,    1,    9],\n",
       "       [   0,    0,    1,    3,    0,    3,    0,    0,  962,    5],\n",
       "       [   0,    0,    0,    3,    2,    4,    0,    0,    0, 1000]],\n",
       "      dtype=int64)"
      ]
     },
     "execution_count": 218,
     "metadata": {},
     "output_type": "execute_result"
    }
   ],
   "source": [
    "matrix"
   ]
  },
  {
   "cell_type": "code",
   "execution_count": 219,
   "metadata": {},
   "outputs": [
    {
     "name": "stdout",
     "output_type": "stream",
     "text": [
      "50000/50000 [==============================] - 37s 730us/sample - loss: 0.0205 - accuracy: 0.9934\n",
      "10000/10000 [==============================] - 8s 798us/sample - loss: 0.0319 - accuracy: 0.9901\n"
     ]
    }
   ],
   "source": [
    "score=model.evaluate(xtrain1,y_train)\n",
    "score1=model.evaluate(xtest,y_test)"
   ]
  },
  {
   "cell_type": "code",
   "execution_count": 220,
   "metadata": {},
   "outputs": [
    {
     "name": "stdout",
     "output_type": "stream",
     "text": [
      "Test loss: 0.03186189399957657\n",
      "Test accuracy: 99.01000261306763\n",
      "Test error rate: 0.989997386932373\n",
      "Train loss: 0.020531072150440886\n",
      "Train accuracy: 99.33800101280212\n",
      "Train error rate: 0.661998987197876\n"
     ]
    }
   ],
   "source": [
    "#model train and test scores\n",
    "\n",
    "print('Test loss:', score1[0])\n",
    "print('Test accuracy:', score1[1]*100)\n",
    "print('Test error rate:',(1-score1[1])*100)\n",
    "print('Train loss:', score[0])\n",
    "print('Train accuracy:', score[1]*100)\n",
    "print('Train error rate:',(1-score[1])*100)"
   ]
  },
  {
   "cell_type": "code",
   "execution_count": 221,
   "metadata": {},
   "outputs": [
    {
     "data": {
      "image/png": "[encoded data removed]",
      "text/plain": [
       "<Figure size 432x288 with 1 Axes>"
      ]
     },
     "metadata": {
      "needs_background": "light"
     },
     "output_type": "display_data"
    }
   ],
   "source": [
    "plt.plot(history.history['loss'])\n",
    "plt.plot(history.history['val_loss'])\n",
    "plt.title('Learning curve')\n",
    "plt.ylabel('loss')\n",
    "plt.xlabel('epoch')\n",
    "plt.legend(['train', 'test'], loc='upper right')\n",
    "plt.show()"
   ]
  },
  {
   "cell_type": "code",
   "execution_count": null,
   "metadata": {},
   "outputs": [],
   "source": []
  }
 ],
 "metadata": {
  "kernelspec": {
   "display_name": "Python 3",
   "language": "python",
   "name": "python3"
  },
  "language_info": {
   "codemirror_mode": {
    "name": "ipython",
    "version": 3
   },
   "file_extension": ".py",
   "mimetype": "text/x-python",
   "name": "python",
   "nbconvert_exporter": "python",
   "pygments_lexer": "ipython3",
   "version": "3.7.9"
  }
 },
 "nbformat": 4,
 "nbformat_minor": 4
}
